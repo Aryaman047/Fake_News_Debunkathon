{
  "nbformat": 4,
  "nbformat_minor": 0,
  "metadata": {
    "colab": {
      "provenance": []
    },
    "kernelspec": {
      "name": "python3",
      "display_name": "Python 3"
    },
    "language_info": {
      "name": "python"
    }
  },
  "cells": [
    {
      "cell_type": "code",
      "execution_count": null,
      "metadata": {
        "id": "uZ7cQoQq-3TV"
      },
      "outputs": [],
      "source": [
        "#link https://www.politifact.com/factchecks/list/?page=84&ruling=true"
      ]
    },
    {
      "cell_type": "code",
      "source": [
        "from bs4 import BeautifulSoup\n",
        "import pandas as pd\n",
        "import requests\n",
        "import requests\n",
        "import urllib.request\n",
        "import time"
      ],
      "metadata": {
        "id": "YpVbTuBzACco"
      },
      "execution_count": null,
      "outputs": []
    },
    {
      "cell_type": "code",
      "source": [
        "authors = []\n",
        "dates = []\n",
        "statements = []\n",
        "content = []\n",
        "sources = []\n",
        "targets = []"
      ],
      "metadata": {
        "id": "vchkRJICACry"
      },
      "execution_count": null,
      "outputs": []
    },
    {
      "cell_type": "code",
      "source": [
        "def scrape_website(page_number):\n",
        "  pgno = str(page_number)\n",
        "  URL = 'https://www.politifact.com/factchecks/list/?page='+ pgno +'&ruling=true'\n",
        "  webpage = requests.get(URL)\n",
        "  soup = BeautifulSoup(webpage.text,'html.parser')\n",
        "  #Get location\n",
        "  statement_footer = soup.find_all('footer',attrs ={'class':'m-statement__footer'})\n",
        "  statement_quote = soup.find_all('div',attrs={'class':'m-statement__quote'})\n",
        "  statement_meta = soup.find_all('div',attrs={'class':'m-statement__meta'})\n",
        "  target = soup.find_all('div',attrs={'class':'m-statement__meter'})\n",
        "\n",
        "  for i in statement_footer:\n",
        "    link1 = i.text.strip()\n",
        "    name_and_date = link1.split()\n",
        "    first_name = name_and_date[1]\n",
        "    last_name = name_and_date[2]\n",
        "    full_name = first_name+' '+last_name\n",
        "    month = name_and_date[4]\n",
        "    day = name_and_date[5]\n",
        "    year = name_and_date[6]\n",
        "    date = month + ' '+ day + ' '+year\n",
        "    dates.append(date)\n",
        "    authors.append(full_name)\n",
        "\n",
        "  for i in statement_quote:\n",
        "    link2 = i.find_all('a')\n",
        "    statement_text = link2[0].text.strip()\n",
        "    statements.append(statement_text)\n",
        "    atag=i.find_all('a')[0]\n",
        "    link2 = i.find_all('a')\n",
        "    statement_text = link2[0].text.strip()\n",
        "    URL2 = 'https://www.politifact.com' +  atag['href']\n",
        "    webpage = requests.get(URL2)\n",
        "    soup2 = BeautifulSoup(webpage.text)\n",
        "    statement_content = soup2.find_all('article',attrs={'class':'m-textblock'})\n",
        "    content.append(''.join(statement_content[0].text.strip().splitlines()))\n",
        "\n",
        "\n",
        "  for i in statement_quote:\n",
        "   atag=i.find_all('a')[0]   \n",
        "\n",
        "  for i in statement_meta:\n",
        "    link3 = i.find_all('a')\n",
        "    source_text = link3[0].text.strip()\n",
        "    sources.append(source_text)\n",
        "\n",
        "  for i in target:\n",
        "      link4 = i.find('div',attrs={'class':'c-image'}).find('img').get('alt')\n",
        "      targets.append(link4)\n",
        "\n",
        "\n"
      ],
      "metadata": {
        "id": "UoCjupmEACzD"
      },
      "execution_count": null,
      "outputs": []
    },
    {
      "cell_type": "code",
      "source": [
        "def scrape_website1(page_number):\n",
        "  pgno = str(page_number)\n",
        "  URL = 'https://www.politifact.com/factchecks/list/?page='+ pgno +'&ruling=true'\n",
        "  webpage = requests.get(URL)\n",
        "  soup = BeautifulSoup(webpage.text,'html.parser')\n",
        "  #Get location\n",
        "  statement_footer = soup.find_all('footer',attrs ={'class':'m-statement__footer'})\n",
        "  statement_quote = soup.find_all('div',attrs={'class':'m-statement__quote'})\n",
        "  statement_meta = soup.find_all('div',attrs={'class':'m-statement__meta'})\n",
        "  target = soup.find_all('div',attrs={'class':'m-statement__meter'})\n",
        "\n",
        "  for i in statement_footer:\n",
        "    link1 = i.text.strip()\n",
        "    name_and_date = link1.split()\n",
        "    first_name = name_and_date[1]\n",
        "    last_name = name_and_date[2]\n",
        "    full_name = first_name+' '+last_name\n",
        "    month = name_and_date[4]\n",
        "    day = name_and_date[5]\n",
        "    year = name_and_date[6]\n",
        "    print(full_name,month,day,year)\n",
        "\n"
      ],
      "metadata": {
        "id": "eV3Pqgc4F8No"
      },
      "execution_count": null,
      "outputs": []
    },
    {
      "cell_type": "code",
      "source": [
        "n = 15\n",
        "for i in range(1,n):\n",
        "  scrape_website(i)\n"
      ],
      "metadata": {
        "id": "tdTZGzueGWNA"
      },
      "execution_count": null,
      "outputs": []
    },
    {
      "cell_type": "code",
      "source": [
        "len(authors)"
      ],
      "metadata": {
        "id": "UjMFPYNxDdUF"
      },
      "execution_count": null,
      "outputs": []
    },
    {
      "cell_type": "code",
      "source": [
        "len(statements)"
      ],
      "metadata": {
        "colab": {
          "base_uri": "https://localhost:8080/"
        },
        "id": "Y-ECSrbWDmHS",
        "outputId": "2b993b83-9efd-4ca8-93ec-09f086010778"
      },
      "execution_count": null,
      "outputs": [
        {
          "output_type": "execute_result",
          "data": {
            "text/plain": [
              "3780"
            ]
          },
          "metadata": {},
          "execution_count": 21
        }
      ]
    },
    {
      "cell_type": "code",
      "source": [
        "len(sources)"
      ],
      "metadata": {
        "colab": {
          "base_uri": "https://localhost:8080/"
        },
        "id": "j7y26vu_D29c",
        "outputId": "19880c89-8b36-4519-92be-a7718c1fd2f6"
      },
      "execution_count": null,
      "outputs": [
        {
          "output_type": "execute_result",
          "data": {
            "text/plain": [
              "3780"
            ]
          },
          "metadata": {},
          "execution_count": 22
        }
      ]
    },
    {
      "cell_type": "code",
      "source": [
        "len(dates)"
      ],
      "metadata": {
        "colab": {
          "base_uri": "https://localhost:8080/"
        },
        "id": "-7-W2TQ6EFYj",
        "outputId": "6affcf2b-f86f-41d1-d6b9-eb348050069b"
      },
      "execution_count": null,
      "outputs": [
        {
          "output_type": "execute_result",
          "data": {
            "text/plain": [
              "3846"
            ]
          },
          "metadata": {},
          "execution_count": 24
        }
      ]
    },
    {
      "cell_type": "code",
      "source": [
        "len(targets)"
      ],
      "metadata": {
        "colab": {
          "base_uri": "https://localhost:8080/"
        },
        "id": "hsJGoZ9hD4kD",
        "outputId": "02661c49-6970-45b1-fad3-11ef12e28a84"
      },
      "execution_count": null,
      "outputs": [
        {
          "output_type": "execute_result",
          "data": {
            "text/plain": [
              "3780"
            ]
          },
          "metadata": {},
          "execution_count": 25
        }
      ]
    },
    {
      "cell_type": "code",
      "source": [
        "data = pd.DataFrame(columns = ['author','statement','article','source','date','target'])\n",
        "data['author'] = pd.Series(authors)\n",
        "data['statement']= pd.Series(statements)\n",
        "data['source']= pd.Series(sources)\n",
        "data['article']=pd.Series(content)\n",
        "data['date']= pd.Series(dates)\n",
        "data['target']= pd.Series(targets)\n",
        "\n",
        "data\n"
      ],
      "metadata": {
        "colab": {
          "base_uri": "https://localhost:8080/",
          "height": 728
        },
        "id": "RX8a4tC4AC5R",
        "outputId": "ff0bcdf4-0e5b-4b6c-cebe-54cab611742d"
      },
      "execution_count": null,
      "outputs": [
        {
          "output_type": "execute_result",
          "data": {
            "text/plain": [
              "              author                                          statement  \\\n",
              "0       Jill Terreri  If New York’s proposed limits on natural gas i...   \n",
              "1      Laura Schulte  “Wisconsin is the nation’s top cranberry produ...   \n",
              "2      Nusaiba Mizan  \"Biden drained America's Strategic Petroleum R...   \n",
              "3         D.L. Davis  \"Historically, our spring elections (including...   \n",
              "4         D.L. Davis  \"Latina workers make 54 cents for every dollar...   \n",
              "..               ...                                                ...   \n",
              "955        Dan Clark                                                NaN   \n",
              "956        Dan Clark                                                NaN   \n",
              "957        Dan Clark                                                NaN   \n",
              "958   Louis Jacobson                                                NaN   \n",
              "959  Miriam Valverde                                                NaN   \n",
              "\n",
              "                                               article           source  \\\n",
              "0    Gov. Kathy Hochul’s plan to reduce natural gas...      Robert Ortt   \n",
              "1    Wisconsin is known as the dairy state, with fa...       Tony Evers   \n",
              "2    U.S. Rep. Morgan Luttrell, R-Texas, has flagge...  Morgan Luttrell   \n",
              "3    Just a few months after a tumultuous November ...    Melissa Agard   \n",
              "4    The \"Equal Pay for Equal Work\" movement dates ...    Tammy Baldwin   \n",
              "..                                                 ...              ...   \n",
              "955                                                NaN              NaN   \n",
              "956                                                NaN              NaN   \n",
              "957                                                NaN              NaN   \n",
              "958                                                NaN              NaN   \n",
              "959                                                NaN              NaN   \n",
              "\n",
              "                  date target  \n",
              "0        • February 8,   true  \n",
              "1     February 2, 2023   true  \n",
              "2     January 19, 2023   true  \n",
              "3     January 10, 2023   true  \n",
              "4    December 16, 2022   true  \n",
              "..                 ...    ...  \n",
              "955   February 1, 2018    NaN  \n",
              "956   February 1, 2018    NaN  \n",
              "957   February 1, 2018    NaN  \n",
              "958   January 30, 2018    NaN  \n",
              "959   January 26, 2018    NaN  \n",
              "\n",
              "[960 rows x 6 columns]"
            ],
            "text/html": [
              "\n",
              "  <div id=\"df-0215d60e-ee31-42a2-9ad9-0455b10ba375\">\n",
              "    <div class=\"colab-df-container\">\n",
              "      <div>\n",
              "<style scoped>\n",
              "    .dataframe tbody tr th:only-of-type {\n",
              "        vertical-align: middle;\n",
              "    }\n",
              "\n",
              "    .dataframe tbody tr th {\n",
              "        vertical-align: top;\n",
              "    }\n",
              "\n",
              "    .dataframe thead th {\n",
              "        text-align: right;\n",
              "    }\n",
              "</style>\n",
              "<table border=\"1\" class=\"dataframe\">\n",
              "  <thead>\n",
              "    <tr style=\"text-align: right;\">\n",
              "      <th></th>\n",
              "      <th>author</th>\n",
              "      <th>statement</th>\n",
              "      <th>article</th>\n",
              "      <th>source</th>\n",
              "      <th>date</th>\n",
              "      <th>target</th>\n",
              "    </tr>\n",
              "  </thead>\n",
              "  <tbody>\n",
              "    <tr>\n",
              "      <th>0</th>\n",
              "      <td>Jill Terreri</td>\n",
              "      <td>If New York’s proposed limits on natural gas i...</td>\n",
              "      <td>Gov. Kathy Hochul’s plan to reduce natural gas...</td>\n",
              "      <td>Robert Ortt</td>\n",
              "      <td>• February 8,</td>\n",
              "      <td>true</td>\n",
              "    </tr>\n",
              "    <tr>\n",
              "      <th>1</th>\n",
              "      <td>Laura Schulte</td>\n",
              "      <td>“Wisconsin is the nation’s top cranberry produ...</td>\n",
              "      <td>Wisconsin is known as the dairy state, with fa...</td>\n",
              "      <td>Tony Evers</td>\n",
              "      <td>February 2, 2023</td>\n",
              "      <td>true</td>\n",
              "    </tr>\n",
              "    <tr>\n",
              "      <th>2</th>\n",
              "      <td>Nusaiba Mizan</td>\n",
              "      <td>\"Biden drained America's Strategic Petroleum R...</td>\n",
              "      <td>U.S. Rep. Morgan Luttrell, R-Texas, has flagge...</td>\n",
              "      <td>Morgan Luttrell</td>\n",
              "      <td>January 19, 2023</td>\n",
              "      <td>true</td>\n",
              "    </tr>\n",
              "    <tr>\n",
              "      <th>3</th>\n",
              "      <td>D.L. Davis</td>\n",
              "      <td>\"Historically, our spring elections (including...</td>\n",
              "      <td>Just a few months after a tumultuous November ...</td>\n",
              "      <td>Melissa Agard</td>\n",
              "      <td>January 10, 2023</td>\n",
              "      <td>true</td>\n",
              "    </tr>\n",
              "    <tr>\n",
              "      <th>4</th>\n",
              "      <td>D.L. Davis</td>\n",
              "      <td>\"Latina workers make 54 cents for every dollar...</td>\n",
              "      <td>The \"Equal Pay for Equal Work\" movement dates ...</td>\n",
              "      <td>Tammy Baldwin</td>\n",
              "      <td>December 16, 2022</td>\n",
              "      <td>true</td>\n",
              "    </tr>\n",
              "    <tr>\n",
              "      <th>...</th>\n",
              "      <td>...</td>\n",
              "      <td>...</td>\n",
              "      <td>...</td>\n",
              "      <td>...</td>\n",
              "      <td>...</td>\n",
              "      <td>...</td>\n",
              "    </tr>\n",
              "    <tr>\n",
              "      <th>955</th>\n",
              "      <td>Dan Clark</td>\n",
              "      <td>NaN</td>\n",
              "      <td>NaN</td>\n",
              "      <td>NaN</td>\n",
              "      <td>February 1, 2018</td>\n",
              "      <td>NaN</td>\n",
              "    </tr>\n",
              "    <tr>\n",
              "      <th>956</th>\n",
              "      <td>Dan Clark</td>\n",
              "      <td>NaN</td>\n",
              "      <td>NaN</td>\n",
              "      <td>NaN</td>\n",
              "      <td>February 1, 2018</td>\n",
              "      <td>NaN</td>\n",
              "    </tr>\n",
              "    <tr>\n",
              "      <th>957</th>\n",
              "      <td>Dan Clark</td>\n",
              "      <td>NaN</td>\n",
              "      <td>NaN</td>\n",
              "      <td>NaN</td>\n",
              "      <td>February 1, 2018</td>\n",
              "      <td>NaN</td>\n",
              "    </tr>\n",
              "    <tr>\n",
              "      <th>958</th>\n",
              "      <td>Louis Jacobson</td>\n",
              "      <td>NaN</td>\n",
              "      <td>NaN</td>\n",
              "      <td>NaN</td>\n",
              "      <td>January 30, 2018</td>\n",
              "      <td>NaN</td>\n",
              "    </tr>\n",
              "    <tr>\n",
              "      <th>959</th>\n",
              "      <td>Miriam Valverde</td>\n",
              "      <td>NaN</td>\n",
              "      <td>NaN</td>\n",
              "      <td>NaN</td>\n",
              "      <td>January 26, 2018</td>\n",
              "      <td>NaN</td>\n",
              "    </tr>\n",
              "  </tbody>\n",
              "</table>\n",
              "<p>960 rows × 6 columns</p>\n",
              "</div>\n",
              "      <button class=\"colab-df-convert\" onclick=\"convertToInteractive('df-0215d60e-ee31-42a2-9ad9-0455b10ba375')\"\n",
              "              title=\"Convert this dataframe to an interactive table.\"\n",
              "              style=\"display:none;\">\n",
              "        \n",
              "  <svg xmlns=\"http://www.w3.org/2000/svg\" height=\"24px\"viewBox=\"0 0 24 24\"\n",
              "       width=\"24px\">\n",
              "    <path d=\"M0 0h24v24H0V0z\" fill=\"none\"/>\n",
              "    <path d=\"M18.56 5.44l.94 2.06.94-2.06 2.06-.94-2.06-.94-.94-2.06-.94 2.06-2.06.94zm-11 1L8.5 8.5l.94-2.06 2.06-.94-2.06-.94L8.5 2.5l-.94 2.06-2.06.94zm10 10l.94 2.06.94-2.06 2.06-.94-2.06-.94-.94-2.06-.94 2.06-2.06.94z\"/><path d=\"M17.41 7.96l-1.37-1.37c-.4-.4-.92-.59-1.43-.59-.52 0-1.04.2-1.43.59L10.3 9.45l-7.72 7.72c-.78.78-.78 2.05 0 2.83L4 21.41c.39.39.9.59 1.41.59.51 0 1.02-.2 1.41-.59l7.78-7.78 2.81-2.81c.8-.78.8-2.07 0-2.86zM5.41 20L4 18.59l7.72-7.72 1.47 1.35L5.41 20z\"/>\n",
              "  </svg>\n",
              "      </button>\n",
              "      \n",
              "  <style>\n",
              "    .colab-df-container {\n",
              "      display:flex;\n",
              "      flex-wrap:wrap;\n",
              "      gap: 12px;\n",
              "    }\n",
              "\n",
              "    .colab-df-convert {\n",
              "      background-color: #E8F0FE;\n",
              "      border: none;\n",
              "      border-radius: 50%;\n",
              "      cursor: pointer;\n",
              "      display: none;\n",
              "      fill: #1967D2;\n",
              "      height: 32px;\n",
              "      padding: 0 0 0 0;\n",
              "      width: 32px;\n",
              "    }\n",
              "\n",
              "    .colab-df-convert:hover {\n",
              "      background-color: #E2EBFA;\n",
              "      box-shadow: 0px 1px 2px rgba(60, 64, 67, 0.3), 0px 1px 3px 1px rgba(60, 64, 67, 0.15);\n",
              "      fill: #174EA6;\n",
              "    }\n",
              "\n",
              "    [theme=dark] .colab-df-convert {\n",
              "      background-color: #3B4455;\n",
              "      fill: #D2E3FC;\n",
              "    }\n",
              "\n",
              "    [theme=dark] .colab-df-convert:hover {\n",
              "      background-color: #434B5C;\n",
              "      box-shadow: 0px 1px 3px 1px rgba(0, 0, 0, 0.15);\n",
              "      filter: drop-shadow(0px 1px 2px rgba(0, 0, 0, 0.3));\n",
              "      fill: #FFFFFF;\n",
              "    }\n",
              "  </style>\n",
              "\n",
              "      <script>\n",
              "        const buttonEl =\n",
              "          document.querySelector('#df-0215d60e-ee31-42a2-9ad9-0455b10ba375 button.colab-df-convert');\n",
              "        buttonEl.style.display =\n",
              "          google.colab.kernel.accessAllowed ? 'block' : 'none';\n",
              "\n",
              "        async function convertToInteractive(key) {\n",
              "          const element = document.querySelector('#df-0215d60e-ee31-42a2-9ad9-0455b10ba375');\n",
              "          const dataTable =\n",
              "            await google.colab.kernel.invokeFunction('convertToInteractive',\n",
              "                                                     [key], {});\n",
              "          if (!dataTable) return;\n",
              "\n",
              "          const docLinkHtml = 'Like what you see? Visit the ' +\n",
              "            '<a target=\"_blank\" href=https://colab.research.google.com/notebooks/data_table.ipynb>data table notebook</a>'\n",
              "            + ' to learn more about interactive tables.';\n",
              "          element.innerHTML = '';\n",
              "          dataTable['output_type'] = 'display_data';\n",
              "          await google.colab.output.renderOutput(dataTable, element);\n",
              "          const docLink = document.createElement('div');\n",
              "          docLink.innerHTML = docLinkHtml;\n",
              "          element.appendChild(docLink);\n",
              "        }\n",
              "      </script>\n",
              "    </div>\n",
              "  </div>\n",
              "  "
            ]
          },
          "metadata": {},
          "execution_count": 8
        }
      ]
    },
    {
      "cell_type": "code",
      "source": [
        "data.to_csv('New_True_News.csv')"
      ],
      "metadata": {
        "id": "UIrZZPzeAC7-"
      },
      "execution_count": null,
      "outputs": []
    },
    {
      "cell_type": "code",
      "source": [],
      "metadata": {
        "id": "Vs3-QxZRAC-e"
      },
      "execution_count": null,
      "outputs": []
    },
    {
      "cell_type": "code",
      "source": [],
      "metadata": {
        "id": "nnoFGQD7ADA-"
      },
      "execution_count": null,
      "outputs": []
    },
    {
      "cell_type": "code",
      "source": [],
      "metadata": {
        "id": "hPDvJZXFADDs"
      },
      "execution_count": null,
      "outputs": []
    },
    {
      "cell_type": "code",
      "source": [],
      "metadata": {
        "id": "lowAQC7sADGe"
      },
      "execution_count": null,
      "outputs": []
    }
  ]
}